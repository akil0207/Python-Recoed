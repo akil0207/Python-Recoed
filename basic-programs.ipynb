{
 "cells": [
  {
   "cell_type": "markdown",
   "id": "2cd210cb",
   "metadata": {},
   "source": [
    "### 1.Write a program to calculate the area of a triangle using Heron’s formula.\n",
    "### (Hint: Heron’s formula is given as: area = sqrt(S*(S–a)*(S–b)*(S–c)))\n"
   ]
  },
  {
   "cell_type": "code",
   "execution_count": 3,
   "id": "51e4052b",
   "metadata": {},
   "outputs": [
    {
     "name": "stdout",
     "output_type": "stream",
     "text": [
      "Area =  10.825317547305483\n"
     ]
    }
   ],
   "source": [
    "a = float(input(\"Enter length of side a: \"))\n",
    "b = float(input(\"Enter length of side b: \"))\n",
    "c = float(input(\"Enter length of side c: \"))\n",
    "S = (a + b + c) / 2\n",
    "area = ((S * (S - a) * (S - b) * (S - c))**0.5)\n",
    "print(\"Area = \",area)\n"
   ]
  },
  {
   "cell_type": "markdown",
   "id": "f9d2e0cf",
   "metadata": {},
   "source": [
    "### 2.Write a program to calculate the distance between two points"
   ]
  },
  {
   "cell_type": "code",
   "execution_count": null,
   "id": "b0bab66a",
   "metadata": {},
   "outputs": [
    {
     "name": "stdout",
     "output_type": "stream",
     "text": [
      "The distance between two points is :  1.077032961426901\n"
     ]
    }
   ],
   "source": [
    "import math\n",
    "def calculate_distance(x1, y1, x2, y2):\n",
    "\tdistance = math.sqrt((x2 - x1)\n",
    "x1 = float(input(\"Enter x-coordinate of first point: \"))\n",
    "y1 = float(input(\"Enter y-coordinate of first point: \"))\n",
    "x2 = float(input(\"Enter x-coordinate of second point: \"))\n",
    "y2 = float(input(\"Enter y-coordinate of second point: \"\n",
    "distance = calculate_distance(x1, y1, x2, y2)\n",
    "print(f\"The distance between the two points is: {distance:.2f}\")\n"
   ]
  },
  {
   "cell_type": "markdown",
   "id": "7753dbe9",
   "metadata": {},
   "source": [
    "### 3.Write a program to calculate the area of a circle, rectangle, triangle, and square."
   ]
  },
  {
   "cell_type": "code",
   "execution_count": 5,
   "id": "a73cfd85",
   "metadata": {},
   "outputs": [
    {
     "name": "stdout",
     "output_type": "stream",
     "text": [
      "invalid choice\n"
     ]
    }
   ],
   "source": [
    "import math\n",
    "ques = input(\"Enter what area to be calculate circle , rectangle, triangle, square : \").lower()\n",
    "if ques == \"circle\" :\n",
    "    radius = float(\"enter the radius of the circle : \")\n",
    "    area_circle = math.pi*(r**2)\n",
    "    print(\"The area of the given circle : \",area_circle)\n",
    "elif ques == \"rectangle\" :\n",
    "    length = float(input(\"Enter the length of the rectangle : \"))\n",
    "    breadth = float(input(\"Enter the breadth of the rectangle : \"))\n",
    "    area_rectangle = length*breadth\n",
    "    print(\"Area of the rectangle is : \",area_rectangle)\n",
    "elif ques == \"triangle\":\n",
    "    base = float(input(\"enter the base length of the triangle: \"))\n",
    "    height = float(\"enter the height of the triangle: \")\n",
    "    area_triangle=1/2*base*height\n",
    "    print(\"Area of the triangle is: \",area_triangle)\n",
    "elif ques == \"square\":\n",
    "    side1 = float(input(\"enter the first side of the square: \"))\n",
    "    side2 = float(input(\"enter the second side of the square: \"))\n",
    "    area_square = side1*side2\n",
    "    print(\"Area of the square is: \",area_square)\n",
    "else:\n",
    "    print(\"invalid choice\")"
   ]
  },
  {
   "cell_type": "markdown",
   "id": "2dac8dec",
   "metadata": {
    "slideshow": {
     "slide_type": "fragment"
    }
   },
   "source": [
    "write a program to print the digit at one's place of a number"
   ]
  },
  {
   "cell_type": "code",
   "execution_count": 6,
   "id": "4b9f79fe",
   "metadata": {},
   "outputs": [
    {
     "name": "stdout",
     "output_type": "stream",
     "text": [
      "the digit at the one's place is:  4\n"
     ]
    }
   ],
   "source": [
    "number = int(input(\"enter the number: \"))\n",
    "ones_place_digit=abs(number)%10\n",
    "print(\"the digit at the one's place is: \",ones_place_digit)"
   ]
  },
  {
   "cell_type": "markdown",
   "id": "06238077",
   "metadata": {},
   "source": [
    "WRITE A PROGRAM TO CALCULATE THE TOTAL AMOUNT OF MONEY IN THE PIGGY BANK,THE GIVEN THREE COINS OF $10,$5,$2,$1"
   ]
  },
  {
   "cell_type": "code",
   "execution_count": 8,
   "id": "8be276a3",
   "metadata": {},
   "outputs": [
    {
     "name": "stdout",
     "output_type": "stream",
     "text": [
      "total amount in the piggy bank is:  44\n"
     ]
    }
   ],
   "source": [
    "coin_10=(int(input(\"enter the amount of ten rupee coin in the piggy bank: \")))\n",
    "coin_5=(int(input(\"enter the amount of five rupee coin in the piggy bank: \")))\n",
    "coin_2=(int(input(\"enter the amount of two rupee coin in the piggy bank: \")))\n",
    "coin_1=(int(input(\"enter the amount of one rupee coin in the piggy bank: \")))\n",
    "total_amount=10*coin_10+5*coin_5+2*coin_2+1*coin_1\n",
    "print(\"total amount in the piggy bank is: \",total_amount)"
   ]
  },
  {
   "cell_type": "markdown",
   "id": "f7e59a28",
   "metadata": {},
   "source": [
    "WRITE A PROGRAM TO CALCULATE THE BILL AMOUNT FOR AN GIVEN ITEM ITS QUANTITY SOLD,VALUE,DISCOUNT AND TAX"
   ]
  },
  {
   "cell_type": "code",
   "execution_count": null,
   "id": "bbc61738",
   "metadata": {},
   "outputs": [
    {
     "name": "stdout",
     "output_type": "stream",
     "text": [
      "the final amount is:  29.664\n"
     ]
    }
   ],
   "source": [
    "quantity=int(input(\"enter the quantity sold: \"))\n",
    "price_per_item=float(input(\"enter the price per item: \"))\n",
    "discount_percent=float(input(\"enter the discount percentage: \"))\n",
    "tax_percent=float(input(\"enter the tax percentage: \"))\n",
    "total_price=quantity*price_per_item\n",
    "discount_amount=(discount_percent/100)*total_price\n",
    "price_after_discount=total_price-discount_amount\n",
    "tax_amount=(tax_percent/100)*price_after_discount\n",
    "bill_amount=price_after_discount+tax_amount\n",
    "print(\"the final amount is: \",bill_amount)"
   ]
  },
  {
   "cell_type": "markdown",
   "id": "7263ed6e",
   "metadata": {},
   "source": [
    "Write a python program to calculate a household's electricity bill.\n",
    "The user should enter the number of units consumed. The charges are as follows:\n",
    "For the first 100 units: ₹1.50 per unit\n",
    "For the next 100 units (101–200): ₹2.00 per unit\n",
    "For units above 200: ₹3.00 per unit\n",
    "A fixed meter charge of ₹50 is added to the bill.\n",
    "Display the total amount to be paid with a proper bill format.\n"
   ]
  },
  {
   "cell_type": "code",
   "execution_count": null,
   "id": "af59fbcc",
   "metadata": {},
   "outputs": [
    {
     "name": "stdout",
     "output_type": "stream",
     "text": [
      "The electricity bill of the household is:  916.0\n"
     ]
    }
   ],
   "source": [
    "units=int(input(\"enter the number of units: \"))\n",
    "meter_charge=50\n",
    "if units<0:\n",
    "    print(\"units cannot be negative\")\n",
    "elif units<=100:\n",
    "    bill_amount=units*1.5\n",
    "elif units<=200:\n",
    "    bill_amount=(100*1.5)+((units-100)*2)\n",
    "else:\n",
    "    bill_amount=(100*1.5)+(200*2)+((units-200)*3)\n",
    "print(\"The electricity bill of the household is: \",bill_amount)"
   ]
  },
  {
   "cell_type": "markdown",
   "id": "03669bd9",
   "metadata": {},
   "source": [
    "Develop a Python program that calculates an employee’s net salary. Accept input for:\n",
    "Employee name and ID\n",
    "Number of hours worked\n",
    "Hourly wage\n",
    "Calculate the gross salary and deduct 10% as tax. Display a proper salary slip with all details\n"
   ]
  },
  {
   "cell_type": "code",
   "execution_count": 12,
   "id": "9492c72d",
   "metadata": {},
   "outputs": [
    {
     "name": "stdout",
     "output_type": "stream",
     "text": [
      "the name of employee is:  joel miller\n",
      "the id no of the employee is:  188473\n",
      "the hours worked by the employee is:  7\n",
      "the hourly wage of the employee is:  200\n",
      "the net salary of the employee is:  1260.0\n"
     ]
    }
   ],
   "source": [
    "name=input(\"enter the name of the employee: \")\n",
    "id=int(input(\"enter the id number of the employee: \"))\n",
    "no_of_hours=int(input(\"enter the hours worked by the employee: \"))\n",
    "hourly_wage=int(input(\"enter the hourly wage of the employee: \"))\n",
    "gross_salary=no_of_hours*hourly_wage\n",
    "tax=gross_salary*0.10\n",
    "net_salary=gross_salary-tax\n",
    "print(\"the name of employee is: \",name)\n",
    "print(\"the id no of the employee is: \",id)\n",
    "print(\"the hours worked by the employee is: \",no_of_hours)\n",
    "print(\"the hourly wage of the employee is: \",hourly_wage)\n",
    "print(\"the net salary of the employee is: \",net_salary)"
   ]
  },
  {
   "cell_type": "markdown",
   "id": "7566b736",
   "metadata": {},
   "source": [
    "Write a Python program to calculate the total cost of movie tickets. Accept:\n",
    "Number of tickets\n",
    "Ticket category (Silver: ₹120, Gold: ₹180, Platinum: ₹250)\n",
    "Add 18% GST to the ticket cost. Display a formatted bill.\n"
   ]
  },
  {
   "cell_type": "code",
   "execution_count": 13,
   "id": "12054551",
   "metadata": {},
   "outputs": [
    {
     "name": "stdout",
     "output_type": "stream",
     "text": [
      "the no of tickets are:  5\n",
      "the category of ticket is:  gold\n",
      "the price of the ticket is:  900.18\n"
     ]
    }
   ],
   "source": [
    "no_of_tickets=int(input(\"enter the number of tickets: \"))\n",
    "ticket_category=input(\"enter the ticket category\")\n",
    "gst=0.18\n",
    "if ticket_category == \"Silver\":\n",
    "    ticket_price=120*no_of_tickets+gst\n",
    "elif ticket_category == \"gold\":\n",
    "    ticket_price=180*no_of_tickets+gst\n",
    "elif ticket_category == \"platinum\":\n",
    "    ticket_price=250*no_of_tickets+gst\n",
    "else:\n",
    "    print(\"invalid choice\")\n",
    "print(\"the no of tickets are: \",no_of_tickets)\n",
    "print(\"the category of ticket is: \",ticket_category)\n",
    "print(\"the price of the ticket is: \",ticket_price)\n",
    "\n",
    "    \n"
   ]
  },
  {
   "cell_type": "markdown",
   "id": "167ef665",
   "metadata": {},
   "source": [
    "Develop a Python program that estimates travel fare based on distance and transport mode. \n",
    "Input:\n",
    "Distance (in km)\n",
    "Mode (Bus: ₹5/km, Train: ₹2/km, Cab: ₹10/km)\n",
    "Calculate and display the total fare and estimated travel time (assuming constant speeds for each mode).\n",
    "\n"
   ]
  },
  {
   "cell_type": "code",
   "execution_count": null,
   "id": "545b5403",
   "metadata": {},
   "outputs": [],
   "source": [
    "try:\n",
    "    distance = float(input(\"Enter distance (in km): \"))\n",
    "    mode = input(\"Enter mode of transport (Bus/Train/Cab): \").lower()\n",
    "\n",
    "    if distance <= 0:\n",
    "        print(\"Distance must be greater than 0.\")\n",
    "    else:\n",
    "        if mode == \"bus\":\n",
    "            fare_per_km = 5\n",
    "            speed_kmph = 40\n",
    "        elif mode == \"train\":\n",
    "            fare_per_km = 2\n",
    "            speed_kmph = 80\n",
    "        elif mode == \"cab\":\n",
    "            fare_per_km = 10\n",
    "            speed_kmph = 60\n",
    "        else:\n",
    "            print(\"Invalid mode of transport. Please choose Bus, Train, or Cab.\")\n",
    "            exit()\n",
    "\n",
    "        fare = distance * fare_per_km\n",
    "        time_hours = distance / speed_kmph\n",
    "\n",
    "        print(\"\\n--- Travel Details ---\")\n",
    "        print(f\"Mode of Transport: {mode.capitalize()}\")\n",
    "        print(f\"Distance: {distance} km\")\n",
    "        print(f\"Total Fare: ₹{fare}\")\n",
    "        print(f\"Estimated Travel Time: {time_hours:.2f} hours\")\n",
    "\n",
    "except ValueError:\n",
    "    print(\"Invalid input. Please enter numeric values for distance.\")\n"
   ]
  }
 ],
 "metadata": {
  "kernelspec": {
   "display_name": "Python 3",
   "language": "python",
   "name": "python3"
  },
  "language_info": {
   "codemirror_mode": {
    "name": "ipython",
    "version": 3
   },
   "file_extension": ".py",
   "mimetype": "text/x-python",
   "name": "python",
   "nbconvert_exporter": "python",
   "pygments_lexer": "ipython3",
   "version": "3.13.3"
  }
 },
 "nbformat": 4,
 "nbformat_minor": 5
}
