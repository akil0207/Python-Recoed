{
 "cells": [
  {
   "cell_type": "markdown",
   "id": "52b6423f",
   "metadata": {},
   "source": [
    "Movie Ticket Pricing\n",
    "You're writing a function to calculate movie ticket prices based on age.\t\n",
    "Kids under 12: $5\n",
    "Seniors (60+): $6\n",
    "Everyone else: $10\n",
    "Question:\n",
    " Write a function calculate_ticket_price(age) that returns the correct ticket price.\n",
    "Sample Input:\n",
    "calculate_ticket_price(8)      # Output: 5  \n",
    "calculate_ticket_price(30)     # Output: 10  \n",
    "calculate_ticket_price(65)     # Output: 6\n"
   ]
  },
  {
   "cell_type": "code",
   "execution_count": 1,
   "id": "7b4e8004",
   "metadata": {},
   "outputs": [
    {
     "name": "stdout",
     "output_type": "stream",
     "text": [
      "5\n",
      "10\n",
      "6\n"
     ]
    }
   ],
   "source": [
    "def calculate_ticket_price(age):\n",
    "    if age<12:\n",
    "        return 5\n",
    "    elif age>=60:\n",
    "        return 6\n",
    "    else:\n",
    "        return 10\n",
    "print(calculate_ticket_price(8))\n",
    "print(calculate_ticket_price(30))\n",
    "print(calculate_ticket_price(65))"
   ]
  },
  {
   "cell_type": "markdown",
   "id": "cb004dfd",
   "metadata": {},
   "source": [
    "You’re building a weather app and need a function to convert temperatures from Celsius to Fahrenheit\n",
    "Question:\n",
    " Write a function celsius_to_fahrenheit(celsius) that returns the Fahrenheit equivalent.\n",
    "Sample Input:\n",
    "celsius_to_fahrenheit(0)       # Output: 32.0  \n",
    "celsius_to_fahrenheit(37)      # Output: 98.6\n"
   ]
  },
  {
   "cell_type": "code",
   "execution_count": 2,
   "id": "78215a51",
   "metadata": {},
   "outputs": [
    {
     "name": "stdout",
     "output_type": "stream",
     "text": [
      "32.0\n",
      "98.6\n"
     ]
    }
   ],
   "source": [
    "def celsius_to_temprature(celsius):\n",
    "    return(celsius*9/5)+32\n",
    "print(celsius_to_temprature(0))\n",
    "print(celsius_to_temprature(37))"
   ]
  },
  {
   "cell_type": "markdown",
   "id": "814ef7c0",
   "metadata": {},
   "source": [
    "You're creating a grading system. Given a score (0–100), return a letter grade:\t\n",
    "A: 90+\t\n",
    "B: 80–89\t\n",
    "C: 70–79\n",
    "D: 60–69\n",
    "F: below 60\n",
    "Question:\n",
    " Write a function get_grade(score) that returns the letter grade.\n",
    "Sample Input:\n",
    "get_grade(85)        # Output: \"B\"  \n",
    "get_grade(59)        # Output: \"F\n"
   ]
  },
  {
   "cell_type": "code",
   "execution_count": 3,
   "id": "3edb8bc9",
   "metadata": {},
   "outputs": [
    {
     "name": "stdout",
     "output_type": "stream",
     "text": [
      "B\n",
      "F\n"
     ]
    }
   ],
   "source": [
    "def get_grade(grade):\n",
    "    if grade>=90:\n",
    "        return \"A\"\n",
    "    elif grade>=80:\n",
    "        return \"B\"\n",
    "    elif grade>=70:\n",
    "        return \"C\"\n",
    "    elif grade>=60:\n",
    "        return \"D\"\n",
    "    else:\n",
    "        return \"F\"\n",
    "print(get_grade(85))\n",
    "print(get_grade(59))"
   ]
  },
  {
   "cell_type": "markdown",
   "id": "e3c901bc",
   "metadata": {},
   "source": [
    "In a text editing app, users want a function that takes a sentence and reverses each word, keeping the word order the same.\n",
    "Question:\n",
    "\t Write a function reverse_words(sentence) that reverses the characters of each word.\n",
    "Sample Input:\n",
    "reverse_words(\"hello world\")    # Output: \"olleh dlrow\"  \n",
    "reverse_words(\"python is fun\")  # Output: \"nohtyp si nuf\"\n"
   ]
  },
  {
   "cell_type": "code",
   "execution_count": 1,
   "id": "6a5844e5",
   "metadata": {},
   "outputs": [
    {
     "name": "stdout",
     "output_type": "stream",
     "text": [
      "olleh dlrow\n",
      "nohtyp si nuf\n"
     ]
    }
   ],
   "source": [
    "def reverse_words(sentence):\n",
    "    words=sentence.split()\n",
    "    reversed_words=[word[::-1]for word in words]\n",
    "    return' '.join(reversed_words)\n",
    "print(reverse_words(\"hello world\"))\n",
    "print(reverse_words(\"python is fun\"))"
   ]
  },
  {
   "cell_type": "markdown",
   "id": "05eb1d85",
   "metadata": {},
   "source": [
    "Shipping Cost Calculator :A  company charges shipping based on weight:\n",
    "Up to 2kg: $5\n",
    "2–5kg: $10\n",
    "5kg and above: $15\n",
    "Question:\n",
    "Write a function calculate_shipping(weight) that returns the shipping cost.\n",
    "Sample Input:\n",
    "calculate_shipping(1.5)     # Output: 5  \n",
    "calculate_shipping(3.2)     # Output: 10  \n",
    "calculate_shipping(7.0)     # Output: 15\n"
   ]
  },
  {
   "cell_type": "code",
   "execution_count": 2,
   "id": "e80c0417",
   "metadata": {},
   "outputs": [
    {
     "name": "stdout",
     "output_type": "stream",
     "text": [
      "5\n",
      "10\n",
      "15\n"
     ]
    }
   ],
   "source": [
    "def calculate_shipping(weight):\n",
    "    if weight<=2:\n",
    "        return(5)\n",
    "    elif weight<=5:\n",
    "        return(10)\n",
    "    else:\n",
    "        return(15)\n",
    "print(calculate_shipping(1.5))\n",
    "print(calculate_shipping(3.2))\n",
    "print(calculate_shipping(7.0))"
   ]
  },
  {
   "cell_type": "markdown",
   "id": "45102fc4",
   "metadata": {},
   "source": [
    "Password Strength Checker\n",
    "Scenario: You're building a sign up form. The password must be at least 8 characters long and contain at least one uppercase letter, one lowercase letter, and one digit.\n",
    "Question:\n",
    "Write a function is_strong_password(password) that returns True if the password is strong, otherwise False.\n",
    "Sample Input:\n",
    "is_strong_password(\"Password123\")     # Output: True\n",
    "\n",
    "\n",
    "\n",
    "\n"
   ]
  },
  {
   "cell_type": "code",
   "execution_count": null,
   "id": "34aad3a9",
   "metadata": {},
   "outputs": [
    {
     "name": "stdout",
     "output_type": "stream",
     "text": [
      "True\n"
     ]
    }
   ],
   "source": [
    "def is_strong_password(password):\n",
    "    if len(password)<8:\n",
    "        return False\n",
    "    has_lower=any(char.isupper()for char in password)\n",
    "    has_upper=any(char.islower()for char in password)\n",
    "    has_digit=any(char.isdigit()for char in password)\n",
    "    return has_upper and has_lower and has_digit\n",
    "print(is_strong_password(\"Password123\"))"
   ]
  }
 ],
 "metadata": {
  "kernelspec": {
   "display_name": "Python 3",
   "language": "python",
   "name": "python3"
  },
  "language_info": {
   "codemirror_mode": {
    "name": "ipython",
    "version": 3
   },
   "file_extension": ".py",
   "mimetype": "text/x-python",
   "name": "python",
   "nbconvert_exporter": "python",
   "pygments_lexer": "ipython3",
   "version": "3.13.3"
  }
 },
 "nbformat": 4,
 "nbformat_minor": 5
}
