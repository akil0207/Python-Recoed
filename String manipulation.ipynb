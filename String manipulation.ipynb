{
 "cells": [
  {
   "cell_type": "markdown",
   "id": "1b65eb6d",
   "metadata": {},
   "source": [
    "Username Validator You're developing a login system. A username must only contain\n",
    "alphabets and numbers, and should not exceed 12 characters. Write a function that checks\n",
    "whether a given username is valid or not. Return True if it's valid, otherwise False"
   ]
  },
  {
   "cell_type": "code",
   "execution_count": 1,
   "id": "ebac30cc",
   "metadata": {},
   "outputs": [
    {
     "name": "stdout",
     "output_type": "stream",
     "text": [
      "False\n"
     ]
    }
   ],
   "source": [
    "def is_valid(username):\n",
    " if len(username)>12:\n",
    "    return False\n",
    " for i in username:\n",
    "    if i.isalnum() and i!=\" \":\n",
    "        continue\n",
    " else:\n",
    "    return False\n",
    " return True\n",
    "username=input(\"Enter the username :\")\n",
    "print(is_valid(username))"
   ]
  },
  {
   "cell_type": "markdown",
   "id": "d7bedcce",
   "metadata": {},
   "source": [
    "Email Masking for Privacy . You need to mask part of an email address when displaying it\n",
    "publicly to protect user privacy. Write a program that takes an email\n",
    "like john.doe@example.com and returns a masked version like jo****@example.com.\n"
   ]
  },
  {
   "cell_type": "code",
   "execution_count": 2,
   "id": "a961f7da",
   "metadata": {},
   "outputs": [
    {
     "name": "stdout",
     "output_type": "stream",
     "text": [
      "he********@gmail.com\n"
     ]
    }
   ],
   "source": [
    "def mask(email):\n",
    " if len(email[:email.index('@')])<=3:\n",
    "    return email[0]+'*'*len(email[1:email.index('@')])+email[email.index('@'):]\n",
    " l=len(email[2:email.index('@')])\n",
    " masked=email[:2]+(\"*\"*l)+email[email.index('@'):]\n",
    " return masked\n",
    "email=input(\"Enter your email'id :\")\n",
    "print(mask(email)) "
   ]
  },
  {
   "cell_type": "markdown",
   "id": "344b3503",
   "metadata": {},
   "source": [
    "Detecting Palindromes You are building a text analyzer app. One of the features is to detect if\n",
    "a word or phrase is a palindrome (ignoring spaces and punctuation). Write a function that\n",
    "checks whether a given string is a palindrome, ignoring case, spaces, and punctuation."
   ]
  },
  {
   "cell_type": "code",
   "execution_count": 3,
   "id": "5b7b1e96",
   "metadata": {},
   "outputs": [
    {
     "name": "stdout",
     "output_type": "stream",
     "text": [
      "False\n"
     ]
    }
   ],
   "source": [
    "def is_palindrome(str):\n",
    " clean=''\n",
    " rev=''\n",
    " for i in str:\n",
    "    if i.isalnum():\n",
    "        clean+=i.lower()\n",
    " rev=clean[::-1]\n",
    " return rev==clean\n",
    "str=input(\"Enter a sentence :\")\n",
    "print(is_palindrome(str))\n"
   ]
  },
  {
   "cell_type": "markdown",
   "id": "5e934e73",
   "metadata": {},
   "source": [
    "Text Formatter for News Headlines - You’re building a news app that receives article titles in\n",
    "random casing. You need to format the titles so each word starts with a capital letter. Write a\n",
    "function that converts a given string like \"breaKing news: python is fun\" to \"Breaking News:\n",
    "Python Is Fun\"."
   ]
  },
  {
   "cell_type": "code",
   "execution_count": 4,
   "id": "290292e6",
   "metadata": {},
   "outputs": [
    {
     "name": "stdout",
     "output_type": "stream",
     "text": [
      "Python Is Fun\n"
     ]
    }
   ],
   "source": [
    "def make_title(news):\n",
    " return news.lower().title()\n",
    "news=input(\"Enter NEWS title :\")\n",
    "print(make_title(news))"
   ]
  },
  {
   "cell_type": "markdown",
   "id": "61e36785",
   "metadata": {},
   "source": [
    "Word Frequency Counter In a blog analysis tool, you need to find out how often each word\n",
    "appears in a paragraph."
   ]
  },
  {
   "cell_type": "code",
   "execution_count": 5,
   "id": "9e2ad374",
   "metadata": {},
   "outputs": [
    {
     "name": "stdout",
     "output_type": "stream",
     "text": [
      "\n",
      "The words repeated is 2 times\n"
     ]
    }
   ],
   "source": [
    "def tool1(u):\n",
    " str1=input(\"\\nEnter a word to analysis:\")\n",
    " str1=str1.lower()\n",
    " n=u.count(str1)\n",
    " return n\n",
    "u=input(\"Enter the paragraph or string:\")\n",
    "u=u.lower()\n",
    "print(\"\\nThe words repeated is\",tool1(u),\"times\")"
   ]
  },
  {
   "cell_type": "markdown",
   "id": "6c6c15ad",
   "metadata": {},
   "source": [
    "Write a program that takes a block of text and prints"
   ]
  },
  {
   "cell_type": "code",
   "execution_count": 6,
   "id": "aa5c5a3f",
   "metadata": {},
   "outputs": [
    {
     "name": "stdout",
     "output_type": "stream",
     "text": [
      "we are more ghosts than people\n"
     ]
    }
   ],
   "source": [
    "def block(t):\n",
    " print(t)\n",
    "t=input(\"Enter the block of text:\")\n",
    "block(t)\n"
   ]
  }
 ],
 "metadata": {
  "kernelspec": {
   "display_name": "Python 3",
   "language": "python",
   "name": "python3"
  },
  "language_info": {
   "codemirror_mode": {
    "name": "ipython",
    "version": 3
   },
   "file_extension": ".py",
   "mimetype": "text/x-python",
   "name": "python",
   "nbconvert_exporter": "python",
   "pygments_lexer": "ipython3",
   "version": "3.13.3"
  }
 },
 "nbformat": 4,
 "nbformat_minor": 5
}
