{
 "cells": [
  {
   "cell_type": "markdown",
   "id": "3dee7df1",
   "metadata": {},
   "source": [
    "Develop a python program for finding the absolute value of a given number. This is always measured as positive number. This number is the distance of given number from the 0(Zero). The input value may be integer, float or complex number in Python. The absolute value of given number may be integer or float.\n"
   ]
  },
  {
   "cell_type": "code",
   "execution_count": 3,
   "id": "9aa2bc03",
   "metadata": {},
   "outputs": [
    {
     "name": "stdout",
     "output_type": "stream",
     "text": [
      "the absolute value of  -88 is 88\n"
     ]
    }
   ],
   "source": [
    "try:\n",
    "    user_input=input(\"enter a number\")\n",
    "    if 'j' in user_input:\n",
    "        number=complex(user_input)\n",
    "    else:\n",
    "        try:\n",
    "         number=int(user_input)\n",
    "        except ValueError:\n",
    "            number=float(user_input)\n",
    "\n",
    "    abs_value=abs(number)\n",
    "    print(\"the absolute value of \",user_input,\"is\",abs_value)\n",
    "\n",
    "except ValueError:\n",
    "    print(\"invalid input.please enter a valid number\")"
   ]
  },
  {
   "cell_type": "markdown",
   "id": "5b324869",
   "metadata": {},
   "source": [
    "Calculate the Total selling price after levying the GST (Goods and Service Tax) as CGST and SGST on sale. CGST (Central Govt. GST), SGST (State Govt. GST) .\n",
    "        Sale amount \t\tCGST Rate \t\tSGST Rate\n",
    "         0-50000\t\t5%\t\t\t5%\n",
    "         Above 50000\t\t18%\t\t\t18%\n",
    "\n"
   ]
  },
  {
   "cell_type": "code",
   "execution_count": 1,
   "id": "6080297c",
   "metadata": {},
   "outputs": [
    {
     "name": "stdout",
     "output_type": "stream",
     "text": [
      "The Total Selling Price is:  5500.0\n"
     ]
    }
   ],
   "source": [
    "sale_amount=float(input(\"enter the sale amount: \"))\n",
    "if sale_amount<=50000:\n",
    "    cgst_rate=0.05\n",
    "    sgst_rate=0.05\n",
    "else:\n",
    "    cgst_rate=0.05\n",
    "    sgst_rate=0.18\n",
    "cgst_amount=sale_amount*cgst_rate\n",
    "sgst_amount=sale_amount*sgst_rate\n",
    "total_selling_price=sale_amount+cgst_amount+sgst_amount\n",
    "print(\"The Total Selling Price is: \",total_selling_price)"
   ]
  },
  {
   "cell_type": "markdown",
   "id": "758da70f",
   "metadata": {},
   "source": [
    "Write a Python program to construct the following pattern, using a nested for loop.\n",
    "*\n",
    "* *\n",
    "* * *\n",
    "* * * *\n",
    "* * * * *\n",
    "* * * *\n",
    "* * *\n",
    "* *\n",
    "*\n"
   ]
  },
  {
   "cell_type": "code",
   "execution_count": 6,
   "id": "7bb82d6d",
   "metadata": {},
   "outputs": [
    {
     "name": "stdout",
     "output_type": "stream",
     "text": [
      "* \n",
      "* * \n",
      "* * * \n",
      "* * * * \n",
      "* * * * * \n",
      "* * * * \n",
      "* * * \n",
      "* * \n",
      "* \n"
     ]
    }
   ],
   "source": [
    "rows=5\n",
    "for i in range(1,rows+1):\n",
    "    for j in range(i):\n",
    "        print(\"*\",end=\" \")\n",
    "    print()\n",
    "for i in range(rows-1,0,-1):\n",
    "    for j in range(i):\n",
    "        print(\"*\",end=\" \")\n",
    "    print()"
   ]
  },
  {
   "cell_type": "markdown",
   "id": "72b9fcdd",
   "metadata": {},
   "source": [
    "Write a Python program to guess a number between 1 and 9.\n"
   ]
  },
  {
   "cell_type": "code",
   "execution_count": 7,
   "id": "947e343c",
   "metadata": {},
   "outputs": [
    {
     "name": "stdout",
     "output_type": "stream",
     "text": [
      "oops,wrong answer try again.\n",
      "oops,wrong answer try again.\n",
      "oops,wrong answer try again.\n",
      "oops,wrong answer try again.\n",
      "oops,wrong answer try again.\n",
      "oops,wrong answer try again.\n",
      "oops,wrong answer try again.\n",
      "oops,wrong answer try again.\n",
      "oops,wrong answer try again.\n",
      "congratulations,well guessed.\n"
     ]
    }
   ],
   "source": [
    "import random\n",
    "number_to_guess=random.randint(1,9)\n",
    "while True:\n",
    "    user_guess=int(input(\"guess a number between 1 to 9: \"))\n",
    "    if user_guess==number_to_guess:\n",
    "        print(\"congratulations,well guessed.\")\n",
    "        break\n",
    "    else:\n",
    "        print(\"oops,wrong answer try again.\")\n",
    "        "
   ]
  },
  {
   "cell_type": "markdown",
   "id": "bd0ab588",
   "metadata": {},
   "source": [
    "You have two streaming subscriptions and want to find out how much you spend each month and how much you could save if you switch to paying annually. Each subscription has a monthly cost and offers a discounted annual rate.\n",
    "Write a Python program to calculate the total monthly cost for both subscriptions, the total annual cost if you continue paying monthly, and compare this with the yearly rates you would pay if you switch to annual payments. Finally, choose the yearly payment option to see how much you could save.\n"
   ]
  },
  {
   "cell_type": "code",
   "execution_count": 8,
   "id": "b1721d07",
   "metadata": {},
   "outputs": [
    {
     "name": "stdout",
     "output_type": "stream",
     "text": [
      "enter the subscription details for service 1\n",
      "enter the subscription details for service 2 \n",
      "The total monthly cost is:  22.0\n",
      "Total annual monthly cost for subscription is:  264.0\n",
      "Total annual cost if paying yearly is:  220.0\n",
      "the savings amount is :  44.0\n"
     ]
    }
   ],
   "source": [
    "print(\"enter the subscription details for service 1\")\n",
    "monthly_cost_1=float(input(\"enter the monthly amount for subscription 1: \"))\n",
    "annual_cost_1=float(input(\"enter the annual discounted cost for subscription 1: \"))\n",
    "print(\"enter the subscription details for service 2 \")\n",
    "monthly_cost_2=float(input(\"enter the monthly amount for the subscription 2: \" ))\n",
    "annual_cost_2=float(input(\"enter the annual discounted cost for subscription 2: \"))\n",
    "total_monthly_cost=monthly_cost_1+monthly_cost_2\n",
    "print(\"The total monthly cost is: \",total_monthly_cost)\n",
    "total_annual_monthly_cost=total_monthly_cost*12\n",
    "print(\"Total annual monthly cost for subscription is: \",total_annual_monthly_cost)\n",
    "total_annual_yearly=annual_cost_1+annual_cost_2\n",
    "print(\"Total annual cost if paying yearly is: \",total_annual_yearly)\n",
    "savings_amount=total_annual_monthly_cost-total_annual_yearly\n",
    "print(\"the savings amount is : \",savings_amount)"
   ]
  },
  {
   "cell_type": "markdown",
   "id": "c00fa618",
   "metadata": {},
   "source": [
    "Write a Python program that iterates through integers from 1 to 50. For each multiple of three, print \"Fizz\" instead of the number; for each multiple of five, print \"Buzz\". For numbers that are multiples of both three and five, print \"FizzBuzz\".\n"
   ]
  },
  {
   "cell_type": "code",
   "execution_count": 9,
   "id": "5d0b37da",
   "metadata": {},
   "outputs": [
    {
     "name": "stdout",
     "output_type": "stream",
     "text": [
      "1\n",
      "2\n",
      "Fizz\n",
      "4\n",
      "Buzz\n",
      "Fizz\n",
      "7\n",
      "8\n",
      "Fizz\n",
      "Buzz\n",
      "11\n",
      "Fizz\n",
      "13\n",
      "14\n",
      "Fizzbuzz\n",
      "16\n",
      "17\n",
      "Fizz\n",
      "19\n",
      "Buzz\n",
      "Fizz\n",
      "22\n",
      "23\n",
      "Fizz\n",
      "Buzz\n",
      "26\n",
      "Fizz\n",
      "28\n",
      "29\n",
      "Fizzbuzz\n",
      "31\n",
      "32\n",
      "Fizz\n",
      "34\n",
      "Buzz\n",
      "Fizz\n",
      "37\n",
      "38\n",
      "Fizz\n",
      "Buzz\n",
      "41\n",
      "Fizz\n",
      "43\n",
      "44\n",
      "Fizzbuzz\n",
      "46\n",
      "47\n",
      "Fizz\n",
      "49\n",
      "Buzz\n"
     ]
    }
   ],
   "source": [
    "for i in range(1,51):\n",
    "    if i%3==0 and i%5==0:\n",
    "        print(\"Fizzbuzz\")\n",
    "    elif i%3==0:\n",
    "        print(\"Fizz\")\n",
    "    elif i%5==0:\n",
    "        print(\"Buzz\")\n",
    "    else:\n",
    "        print(i)"
   ]
  },
  {
   "cell_type": "markdown",
   "id": "6f44e0b4",
   "metadata": {},
   "source": [
    "Write a Python program that takes two digits, m (row) and n (column) as input and generates a two-dimensional array. The element value in the i-th row and j-th column of the array should be i*j.\n",
    "Note :\n",
    "i = 0,1.., m-1\n",
    "j = 0,1, n-1.\n",
    "Test Data : Rows = 3, Columns = 4\n",
    "Expected Result : [[0, 0, 0, 0], [0, 1, 2, 3], [0, 2, 4, 6]]\n"
   ]
  },
  {
   "cell_type": "code",
   "execution_count": 10,
   "id": "b4e24fc3",
   "metadata": {},
   "outputs": [
    {
     "name": "stdout",
     "output_type": "stream",
     "text": [
      "[[0, 0, 0, 0], [0, 1, 2, 3], [0, 2, 4, 6]]\n"
     ]
    }
   ],
   "source": [
    "m=int(input(\"enter number of rows: \"))\n",
    "n=int(input(\"enter number of columns: \"))\n",
    "array=[[i*j for j in range(n)]for i in range(m)]\n",
    "print(array)"
   ]
  },
  {
   "cell_type": "markdown",
   "id": "f69b67fc",
   "metadata": {},
   "source": [
    "Write  a Python program for Grade Classification\n",
    "Scenario: A school system classifies grades as follows:\n",
    "A (90 and above)\n",
    "B (70 to 89)\n",
    "C (50 to 69)\n",
    "D (below 50)\n",
    "Question:  What grade will be assigned to a student who scores 85?\n",
    "If the score is 92, what grade will the program output\n"
   ]
  },
  {
   "cell_type": "code",
   "execution_count": null,
   "id": "a6ecad84",
   "metadata": {},
   "outputs": [
    {
     "name": "stdout",
     "output_type": "stream",
     "text": [
      "B grade\n",
      "A grade\n"
     ]
    }
   ],
   "source": [
    "marks_1=int(input(\"enter the mark of the student 1: \"))\n",
    "if marks_1 >=90:\n",
    "    print(\"A grade\")\n",
    "elif marks_1 >=70 and marks_1  <=89:\n",
    "    print(\"B grade\")\n",
    "elif marks_1  >=50 and marks_1 <=69:\n",
    "    print(\"c grade\")\n",
    "else:\n",
    "    print(\"D grade\")\n",
    "marks_2=int(input(\"enter the mark of the student 2: \"))\n",
    "if marks_2 >=90:\n",
    "    print(\"A grade\")\n",
    "elif marks_2>=70 and marks_2 <=89:\n",
    "    print(\"B grade\")\n",
    "elif marks_2  >=50 and marks_2 <=69:\n",
    "    print(\"c grade\")\n",
    "else:\n",
    "    print(\"D grade\")"
   ]
  },
  {
   "cell_type": "markdown",
   "id": "49c338a7",
   "metadata": {},
   "source": [
    "Write a program that prints the multiplication table of a user-entered number up to 10.\n"
   ]
  },
  {
   "cell_type": "code",
   "execution_count": 14,
   "id": "599888d4",
   "metadata": {},
   "outputs": [
    {
     "name": "stdout",
     "output_type": "stream",
     "text": [
      "6*1=6\n",
      "6*2=12\n",
      "6*3=18\n",
      "6*4=24\n",
      "6*5=30\n",
      "6*6=36\n",
      "6*7=42\n",
      "6*8=48\n",
      "6*9=54\n",
      "6*10=60\n"
     ]
    }
   ],
   "source": [
    "num=int(input(\"enter the number to print its multiplication table: \"))\n",
    "for i in range(1,11):\n",
    "    print(f\"{num}*{i}={num*i}\")"
   ]
  },
  {
   "cell_type": "markdown",
   "id": "7a634e3c",
   "metadata": {},
   "source": [
    "Write a Python program to check the validity of passwords input by users.\n",
    "Validation :\n",
    "At least 1 letter between [a-z] and 1 letter between [A-Z].\n",
    "At least 1 number between [0-9].\n",
    "At least 1 character from [$#@].\n",
    "Minimum length 6 characters.\n",
    "Maximum length 16 characters.\n",
    "\n",
    "\n"
   ]
  },
  {
   "cell_type": "code",
   "execution_count": 18,
   "id": "a1af03eb",
   "metadata": {},
   "outputs": [
    {
     "name": "stdout",
     "output_type": "stream",
     "text": [
      "the password must be between 6 to 16 characters\n"
     ]
    }
   ],
   "source": [
    "import re\n",
    "password=input(\"enter the password: \")\n",
    "if len(password)<6 or len(password)>16:\n",
    "    print(\"the password must be between 6 to 16 characters\")\n",
    "elif not re.search(\"[a-z]\",password):\n",
    "    print(\"the password must contain at least one lower case letter \")\n",
    "elif not re.search(\"[A-Z]\",password):\n",
    "    print(\"the password must contain at least one uppercase letter\")\n",
    "elif not re.search(\"[0-9]\",password):\n",
    "    print(\"the password must contain at least one number\")\n",
    "elif not re.search(\"[@#$]\",password):\n",
    "    print(\"the password must contain at least one special characters\")\n",
    "else:\n",
    "    print(\"password is invalid\")\n",
    "    "
   ]
  }
 ],
 "metadata": {
  "kernelspec": {
   "display_name": "Python 3",
   "language": "python",
   "name": "python3"
  },
  "language_info": {
   "codemirror_mode": {
    "name": "ipython",
    "version": 3
   },
   "file_extension": ".py",
   "mimetype": "text/x-python",
   "name": "python",
   "nbconvert_exporter": "python",
   "pygments_lexer": "ipython3",
   "version": "3.13.3"
  }
 },
 "nbformat": 4,
 "nbformat_minor": 5
}
