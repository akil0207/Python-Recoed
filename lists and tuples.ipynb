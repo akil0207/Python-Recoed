{
 "cells": [
  {
   "cell_type": "markdown",
   "id": "da63502c",
   "metadata": {},
   "source": [
    "Write a program to create a list and perform the following operations: append, insert, delete, and\n",
    "update an element. "
   ]
  },
  {
   "cell_type": "code",
   "execution_count": null,
   "id": "85167864",
   "metadata": {},
   "outputs": [],
   "source": [
    "lst=list()\n",
    "print(\"After creating list :\",lst)\n",
    "lst.append(5) \n",
    "lst.append(6)\n",
    "print(\"After appending elements :\",lst) \n",
    "lst.insert(0,4)\n",
    "print(\"After inserting elements :\",lst) \n",
    "del lst[1]\n",
    "print(\"After deleting elements :\",lst)\n",
    "lst[0]=3\n",
    "print(\"After updating elements :\",lst) "
   ]
  },
  {
   "cell_type": "markdown",
   "id": "2b91d373",
   "metadata": {},
   "source": [
    "Write a program to create a list of integers and print the largest, smallest, and average of the list\n",
    "elements."
   ]
  },
  {
   "cell_type": "code",
   "execution_count": null,
   "id": "3169935a",
   "metadata": {},
   "outputs": [],
   "source": [
    "lst=[1,6,8,9] \n",
    "print(\"List:\",lst)\n",
    "print(\"Smallest element :\",min(lst)) \n",
    "print(\"Largest element :\",max(lst)) \n",
    "print(\"Average:\",sum(lst)/len(lst))"
   ]
  },
  {
   "cell_type": "markdown",
   "id": "17d276f6",
   "metadata": {},
   "source": [
    "Write a program to generate a list of squares of the first 10 natural numbers using list\n",
    "comprehension. "
   ]
  },
  {
   "cell_type": "code",
   "execution_count": null,
   "id": "988d9b05",
   "metadata": {},
   "outputs": [],
   "source": [
    "lst=[i**2 for i in range(1,11)] \n",
    "print(\"List of square elements :\",lst)"
   ]
  },
  {
   "cell_type": "markdown",
   "id": "f73d57f5",
   "metadata": {},
   "source": [
    "Write a program to create a list of student names and sort them in ascending and descending\n",
    "order. "
   ]
  },
  {
   "cell_type": "code",
   "execution_count": null,
   "id": "2d315e64",
   "metadata": {},
   "outputs": [],
   "source": [
    "stud_lst=[] \n",
    "for i in range(int(input(\"Enter the number for students : \"))): \n",
    "    stud_lst.append(input(\"Enter the name :\"))\n",
    "print(\"Student list :\",stud_lst) \n",
    "ass=sorted(stud_lst)\n",
    "print(\"Student list in ascending order :\",ass) \n",
    "des=sorted(stud_lst,reverse=True)\n",
    "print(\"Student list in descending order :\",des) "
   ]
  },
  {
   "cell_type": "markdown",
   "id": "34622480",
   "metadata": {},
   "source": [
    "Write a program to perform linear search and binary search on a list of numbers "
   ]
  },
  {
   "cell_type": "code",
   "execution_count": null,
   "id": "c12aabeb",
   "metadata": {},
   "outputs": [],
   "source": [
    "lst=[] \n",
    "for i in range(int(input(\"Enter the number of elements :\"))):\n",
    "    lst.append(int(input(\"Enter the list element :\")))\n",
    "target=int(input(\"Enter the target element :\"))\n",
    "print(\"List :\",lst)\n",
    "print(\"Linear search :\")\n",
    "for i in range(len(lst)): \n",
    "    if lst[i]==target:\n",
    "        print(\"Element is found at \",i)\n",
    "    break\n",
    "else:\n",
    "    print(\"Element is not found.\")\n",
    "print(\"Binary search :\")\n",
    "lst=sorted(lst)\n",
    "low=0 \n",
    "high=len(lst)-1\n",
    "while low<=high:\n",
    "    mid=(low+high)//2 \n",
    "if lst[mid]==target:\n",
    "    print(\"The element is found at\",mid)\n",
    "elif lst[mid]<target:\n",
    " low=mid+1 \n",
    "else:\n",
    "    high=mid-1 \n",
    "else:\n",
    "print(\"Element is not found.\") "
   ]
  },
  {
   "cell_type": "markdown",
   "id": "c0c6ff99",
   "metadata": {},
   "source": [
    "Given a list of numbers, create a new list containing the squares of only the odd numbers\n",
    "from the original list. (Use List comprehension) "
   ]
  },
  {
   "cell_type": "code",
   "execution_count": null,
   "id": "b033a10d",
   "metadata": {},
   "outputs": [],
   "source": [
    "lst=[] \n",
    "for i in range(int(input(\"Enter the number of elements :\"))):\n",
    "     lst.append(int(input(\"Enter the list element :\")))\n",
    "print(\"Given list :\",lst) \n",
    "odd_lst=[i**2 for i in lst if i%2==1]\n",
    "print(\"Odd square list :\",odd_lst) "
   ]
  },
  {
   "cell_type": "markdown",
   "id": "e7b5eaa1",
   "metadata": {},
   "source": [
    "Write a program to swap two values using tuple unpacking "
   ]
  },
  {
   "cell_type": "code",
   "execution_count": null,
   "id": "923361a0",
   "metadata": {},
   "outputs": [],
   "source": [
    "a=int(input(\"Enter the first number :\"))\n",
    "b=int(input(\"Enter the second number :\")) \n",
    "t=(a,b)\n",
    "print(\"Before swaping :\\na={}\\nb={}\".format(a,b))\n",
    "b,a=t\n",
    "print(\"After swaping :\\na={}\\nb={}\".format(a,b)) "
   ]
  },
  {
   "cell_type": "markdown",
   "id": "af973b07",
   "metadata": {},
   "source": [
    "Write a program to create a list of tuples containing student names and their marks, and print\n",
    "the names of students who scored more than 90. "
   ]
  },
  {
   "cell_type": "code",
   "execution_count": null,
   "id": "c645ff94",
   "metadata": {},
   "outputs": [],
   "source": [
    "lst=[] \n",
    "for i in range(int(input(\"Enter the number students :\"))):\n",
    "    lst.append((input(\"Enter the student name :\"),int(input(\"Enter the mark :\"))))\n",
    "print(\"List with marks :\",lst)\n",
    "print(\"students who got more than 90 :\") \n",
    "for i in lst:\n",
    "    if i[1]>=90:\n",
    "        print(i[0]) "
   ]
  },
  {
   "cell_type": "markdown",
   "id": "306aae82",
   "metadata": {},
   "source": [
    "A sensor returns a list of readings. Negative readings are invalid and should be replaced by\n",
    "zero and Use list comprehension to replace all negative numbers in a list with 0. "
   ]
  },
  {
   "cell_type": "code",
   "execution_count": null,
   "id": "fd838c15",
   "metadata": {},
   "outputs": [],
   "source": [
    "lst=[] \n",
    "for i in range(int(input(\"Enter the number of readings :\"))):\n",
    "    lst.append(int(input(\"Enter the reading :\"))) \n",
    "    print(\"Before replacing with 0 :\",lst) \n",
    "    lst=[0 if i<0 else i for i in lst]\n",
    "print(\"After replacing with 0 :\",lst)"
   ]
  },
  {
   "cell_type": "markdown",
   "id": "9b4f7bb9",
   "metadata": {},
   "source": [
    "Create a system to process customer orders. Each order can contain multiple items\n",
    "(represented as strings). The system should allow adding items to an order, removing items,\n",
    "displaying the current order, and calculating the total number of items in the order. You could\n",
    "extend this by associating quantities with each item (e.g., a list of tuples: [(\"Laptop\", 1),\n",
    "(\"Mouse\", 2)])"
   ]
  },
  {
   "cell_type": "code",
   "execution_count": null,
   "id": "2165f61c",
   "metadata": {},
   "outputs": [],
   "source": [
    "products = []\n",
    "order = []\n",
    "total_items = 0\n",
    "while True: ch = int(input(\"1. Add product\\n2. Remove product\\n3. Display product\\n4.\n",
    "Add product to order\\n5. Exit\\nEnter choice: \"))\n",
    "\n",
    " if ch == 1: products.append((input(\"Enter the product name: \"), int(input(\"Enter\n",
    "Number of items:\n",
    "\"))))\n",
    " print(\"Product added successfully\")\n",
    " elif ch == 2:\n",
    " remove = input(\"Enter the product to remove: \")\n",
    "for i in products: if i[0].lower() ==\n",
    "remove.lower(): products.remove(i)\n",
    " print(\"Product removed successfully\")\n",
    "break else:\n",
    " print(\"Product not found\")\n",
    " elif ch == 3:\n",
    "print(\"Name\\tNo. of items:\")\n",
    "for i in products:\n",
    "print(i[0], i[1], sep=':')\n",
    " elif ch == 4:\n",
    "while True:\n",
    " ch_item = input(\"Enter the name of item to add (0 to show added items): \")\n",
    "if ch_item == '0':\n",
    " if len(order) == 0:\n",
    " print(\"No items are added\")\n",
    "else:\n",
    " print(\"Name\\tNo. of items:\")\n",
    "for i in order:\n",
    " print(i[0], i[1], sep=':')\n",
    "total_items += i[1]\n",
    " print(\"Total items added:\", total_items)\n",
    "break\n",
    " found = False for j in range(len(products)): if\n",
    "products[j][0].lower() == ch_item.lower(): no_items =\n",
    "int(input(\"Enter the number of items to add: \")) if\n",
    "no_items <= products[j][1]: updated_count =\n",
    "products[j][1] - no_items products[j] = (products[j][0],\n",
    "updated_count) order.append((products[j][0],\n",
    "no_items))\n",
    " print(\"Item added to order\")\n",
    "else:\n",
    " print(\"Not enough items available\")\n",
    " found = True\n",
    "break if not found:\n",
    "print(\"Product not found\")\n",
    " elif ch == 5:\n",
    "print(\"Thanks for coming.\")\n",
    " break "
   ]
  },
  {
   "cell_type": "markdown",
   "id": "93e51f62",
   "metadata": {},
   "source": [
    "Given a list of numbers and a target sum, find all unique pairs of numbers in the list that add\n",
    "up to the target sum."
   ]
  },
  {
   "cell_type": "code",
   "execution_count": null,
   "id": "69b0d31d",
   "metadata": {},
   "outputs": [],
   "source": [
    "def find_pairs(nums, target,):\n",
    "        seen = set()\n",
    "pairs = set()\n",
    "for num in nums:\n",
    "    complement = target - num\n",
    "if complement in seen:\n",
    "    pairs.add(tuple(sorted((num, complement))))\n",
    "    seen.add(num) \n",
    "    return list(pairs)\n",
    "nums=[] \n",
    "for i in range(int(input(\"Enter the no of elements:\"))): \n",
    "    nums.append(int(input(\"Enter the number\"))) \n",
    "    target=int(input(\"Enter the Target number\")) \n",
    "    print(\"Unique pairs are \",find_pairs(nums,target)) "
   ]
  },
  {
   "cell_type": "markdown",
   "id": "cf442522",
   "metadata": {},
   "source": [
    "Implement a function that performs Run-Length Encoding on a list of characters. RLE\n",
    "compresses data by replacing consecutive identical characters with the character and its\n",
    "count. For example, [\"a\", \"a\", \"a\", \"b\", \"b\", \"c\"] would be encoded as [(\"a\", 3), (\"b\", 2), (\"c\",\n",
    "1)]. "
   ]
  },
  {
   "cell_type": "code",
   "execution_count": null,
   "id": "fc861bcc",
   "metadata": {},
   "outputs": [],
   "source": [
    "lst=[] \n",
    "for i in range(int(input(\"Enter the number of inputs :\"))): \n",
    "    lst.append(input(\"Enter the character :\"))\n",
    "print(\"Before encoding :\",lst)\n",
    "encod_lst=[]\n",
    "current=lst[0] \n",
    "c=1 \n",
    "for i in range(1,len(lst)):\n",
    "    if lst[i]==current:\n",
    "        c+=1\n",
    "else:\n",
    "    encod_lst.append((current,c))\n",
    "    c=1 \n",
    "    current=lst[i]\n",
    "    encod_lst.append((current,c))\n",
    "    print(\"After encoding :\",encod_lst)"
   ]
  },
  {
   "cell_type": "markdown",
   "id": "c5be0760",
   "metadata": {},
   "source": [
    "Scenario: Given a matrix and need to transpose it and Use nested list comprehension to\n",
    "transpose a matrix. Input: matrix = [ [1, 2, 3], [4, 5, 6] ] Output: [ [1, 4], [2, 5], [3, 6] ] "
   ]
  },
  {
   "cell_type": "code",
   "execution_count": null,
   "id": "2673f814",
   "metadata": {},
   "outputs": [],
   "source": [
    "matrix=[] \n",
    "r=int(input(\"Enter the no of rows\")) \n",
    "c=int(input(\"Enter the no of coloums\")) \n",
    "for i in range(r):\n",
    "    row=[] \n",
    "for j in range(c):\n",
    "    print(\"Enter the {},{} element :\".format(i+1,j+1))\n",
    "row.append(int(input())) \n",
    "matrix.insert(i,row)\n",
    "print(\"Given matrix\") \n",
    "for i in range(r): \n",
    "    for j in range(c):\n",
    "        print(matrix[i][j],end=\" \")\n",
    "    print()\n",
    "print(\"Transpose Matrix\") \n",
    "for i in range(c): \n",
    "    for j in range(r):\n",
    "        print(matrix[j][i],end=\" \")\n",
    "    print() "
   ]
  },
  {
   "cell_type": "markdown",
   "id": "90efab04",
   "metadata": {},
   "source": [
    "Given a list of strings, extract digits from each string and store them in a new list. Input:\n",
    "[\"abc123\", \"hello99\"] → Output: [\"123\", \"99\"] "
   ]
  },
  {
   "cell_type": "code",
   "execution_count": 20,
   "id": "0684942c",
   "metadata": {},
   "outputs": [
    {
     "name": "stdout",
     "output_type": "stream",
     "text": [
      "Given list is  ['wer123', 'fgh455']\n",
      "After modification : ['123', '455']\n"
     ]
    }
   ],
   "source": [
    "lst=[] \n",
    "for i in range(int(input(\"Enter the no of elements :\"))): \n",
    "    lst.append(input(\"Enter the element:\"))\n",
    "print(\"Given list is \",lst)\n",
    "mod_lst=[] \n",
    "for i in lst:\n",
    "    str=\"\" \n",
    "    for j in i: \n",
    "        if j.isdigit():\n",
    "            str+=j\n",
    "    mod_lst.append(str)\n",
    "print(\"After modification :\",mod_lst)"
   ]
  },
  {
   "cell_type": "markdown",
   "id": "a477f1c7",
   "metadata": {},
   "source": []
  }
 ],
 "metadata": {
  "kernelspec": {
   "display_name": "Python 3",
   "language": "python",
   "name": "python3"
  },
  "language_info": {
   "codemirror_mode": {
    "name": "ipython",
    "version": 3
   },
   "file_extension": ".py",
   "mimetype": "text/x-python",
   "name": "python",
   "nbconvert_exporter": "python",
   "pygments_lexer": "ipython3",
   "version": "3.13.3"
  }
 },
 "nbformat": 4,
 "nbformat_minor": 5
}
